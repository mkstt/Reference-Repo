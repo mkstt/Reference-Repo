{
  "nbformat": 4,
  "nbformat_minor": 0,
  "metadata": {
    "colab": {
      "name": "PolyAI_ConveRT[eng].ipynb",
      "provenance": [],
      "include_colab_link": true
    },
    "kernelspec": {
      "name": "python3",
      "display_name": "Python 3"
    },
    "accelerator": "GPU"
  },
  "cells": [
    {
      "cell_type": "markdown",
      "metadata": {
        "id": "view-in-github",
        "colab_type": "text"
      },
      "source": [
        "<a href=\"https://colab.research.google.com/github/mkstt/Reference-Repo/blob/master/PolyAI_ConveRT%5Beng%5D.ipynb\" target=\"_parent\"><img src=\"https://colab.research.google.com/assets/colab-badge.svg\" alt=\"Open In Colab\"/></a>"
      ]
    },
    {
      "cell_type": "markdown",
      "metadata": {
        "id": "C4CjM71Pz3AC",
        "colab_type": "text"
      },
      "source": [
        "[PolyAI](https://github.com/PolyAI-LDN/polyai-models/blob/master/examples/convert-examples.ipynb)"
      ]
    },
    {
      "cell_type": "code",
      "metadata": {
        "id": "7IUXz-Pj1Dz4",
        "colab_type": "code",
        "outputId": "41f5cf5f-e175-4b10-ac99-60955ce60114",
        "colab": {
          "base_uri": "https://localhost:8080/",
          "height": 124
        }
      },
      "source": [
        "!pip install --no-deps tensorflow_text==0.1.0"
      ],
      "execution_count": 0,
      "outputs": [
        {
          "output_type": "stream",
          "text": [
            "Collecting tensorflow_text==0.1.0\n",
            "\u001b[?25l  Downloading https://files.pythonhosted.org/packages/f0/85/46411195f3961f4906c7e519d7a5cf017882d59149393d7c311e97cf7080/tensorflow_text-0.1.0-cp36-cp36m-manylinux1_x86_64.whl (6.2MB)\n",
            "\u001b[K     |████████████████████████████████| 6.2MB 4.0MB/s \n",
            "\u001b[?25hInstalling collected packages: tensorflow-text\n",
            "Successfully installed tensorflow-text-0.1.0\n"
          ],
          "name": "stdout"
        }
      ]
    },
    {
      "cell_type": "code",
      "metadata": {
        "id": "ugti9ogh1SE7",
        "colab_type": "code",
        "outputId": "d2b53ff1-3a69-4dda-82e9-42af95a3446b",
        "colab": {
          "base_uri": "https://localhost:8080/",
          "height": 680
        }
      },
      "source": [
        "!pip install tensorflow-gpu==1.14.0"
      ],
      "execution_count": 0,
      "outputs": [
        {
          "output_type": "stream",
          "text": [
            "Collecting tensorflow-gpu==1.14.0\n",
            "\u001b[?25l  Downloading https://files.pythonhosted.org/packages/76/04/43153bfdfcf6c9a4c38ecdb971ca9a75b9a791bb69a764d652c359aca504/tensorflow_gpu-1.14.0-cp36-cp36m-manylinux1_x86_64.whl (377.0MB)\n",
            "\u001b[K     |████████████████████████████████| 377.0MB 47kB/s \n",
            "\u001b[?25hRequirement already satisfied: absl-py>=0.7.0 in /usr/local/lib/python3.6/dist-packages (from tensorflow-gpu==1.14.0) (0.8.1)\n",
            "Requirement already satisfied: gast>=0.2.0 in /usr/local/lib/python3.6/dist-packages (from tensorflow-gpu==1.14.0) (0.2.2)\n",
            "Collecting tensorboard<1.15.0,>=1.14.0\n",
            "\u001b[?25l  Downloading https://files.pythonhosted.org/packages/91/2d/2ed263449a078cd9c8a9ba50ebd50123adf1f8cfbea1492f9084169b89d9/tensorboard-1.14.0-py3-none-any.whl (3.1MB)\n",
            "\u001b[K     |████████████████████████████████| 3.2MB 42.8MB/s \n",
            "\u001b[?25hRequirement already satisfied: numpy<2.0,>=1.14.5 in /usr/local/lib/python3.6/dist-packages (from tensorflow-gpu==1.14.0) (1.17.4)\n",
            "Requirement already satisfied: google-pasta>=0.1.6 in /usr/local/lib/python3.6/dist-packages (from tensorflow-gpu==1.14.0) (0.1.8)\n",
            "Requirement already satisfied: six>=1.10.0 in /usr/local/lib/python3.6/dist-packages (from tensorflow-gpu==1.14.0) (1.12.0)\n",
            "Collecting tensorflow-estimator<1.15.0rc0,>=1.14.0rc0\n",
            "\u001b[?25l  Downloading https://files.pythonhosted.org/packages/3c/d5/21860a5b11caf0678fbc8319341b0ae21a07156911132e0e71bffed0510d/tensorflow_estimator-1.14.0-py2.py3-none-any.whl (488kB)\n",
            "\u001b[K     |████████████████████████████████| 491kB 63.0MB/s \n",
            "\u001b[?25hRequirement already satisfied: termcolor>=1.1.0 in /usr/local/lib/python3.6/dist-packages (from tensorflow-gpu==1.14.0) (1.1.0)\n",
            "Requirement already satisfied: wheel>=0.26 in /usr/local/lib/python3.6/dist-packages (from tensorflow-gpu==1.14.0) (0.33.6)\n",
            "Requirement already satisfied: wrapt>=1.11.1 in /usr/local/lib/python3.6/dist-packages (from tensorflow-gpu==1.14.0) (1.11.2)\n",
            "Requirement already satisfied: protobuf>=3.6.1 in /usr/local/lib/python3.6/dist-packages (from tensorflow-gpu==1.14.0) (3.10.0)\n",
            "Requirement already satisfied: astor>=0.6.0 in /usr/local/lib/python3.6/dist-packages (from tensorflow-gpu==1.14.0) (0.8.0)\n",
            "Requirement already satisfied: keras-preprocessing>=1.0.5 in /usr/local/lib/python3.6/dist-packages (from tensorflow-gpu==1.14.0) (1.1.0)\n",
            "Requirement already satisfied: keras-applications>=1.0.6 in /usr/local/lib/python3.6/dist-packages (from tensorflow-gpu==1.14.0) (1.0.8)\n",
            "Requirement already satisfied: grpcio>=1.8.6 in /usr/local/lib/python3.6/dist-packages (from tensorflow-gpu==1.14.0) (1.15.0)\n",
            "Requirement already satisfied: markdown>=2.6.8 in /usr/local/lib/python3.6/dist-packages (from tensorboard<1.15.0,>=1.14.0->tensorflow-gpu==1.14.0) (3.1.1)\n",
            "Requirement already satisfied: werkzeug>=0.11.15 in /usr/local/lib/python3.6/dist-packages (from tensorboard<1.15.0,>=1.14.0->tensorflow-gpu==1.14.0) (0.16.0)\n",
            "Requirement already satisfied: setuptools>=41.0.0 in /usr/local/lib/python3.6/dist-packages (from tensorboard<1.15.0,>=1.14.0->tensorflow-gpu==1.14.0) (41.6.0)\n",
            "Requirement already satisfied: h5py in /usr/local/lib/python3.6/dist-packages (from keras-applications>=1.0.6->tensorflow-gpu==1.14.0) (2.8.0)\n",
            "\u001b[31mERROR: tensorflow 1.15.0 has requirement tensorboard<1.16.0,>=1.15.0, but you'll have tensorboard 1.14.0 which is incompatible.\u001b[0m\n",
            "\u001b[31mERROR: tensorflow 1.15.0 has requirement tensorflow-estimator==1.15.1, but you'll have tensorflow-estimator 1.14.0 which is incompatible.\u001b[0m\n",
            "\u001b[31mERROR: tensorflow-text 0.1.0 has requirement tensorflow<1.15,>=1.14, but you'll have tensorflow 1.15.0 which is incompatible.\u001b[0m\n",
            "Installing collected packages: tensorboard, tensorflow-estimator, tensorflow-gpu\n",
            "  Found existing installation: tensorboard 1.15.0\n",
            "    Uninstalling tensorboard-1.15.0:\n",
            "      Successfully uninstalled tensorboard-1.15.0\n",
            "  Found existing installation: tensorflow-estimator 1.15.1\n",
            "    Uninstalling tensorflow-estimator-1.15.1:\n",
            "      Successfully uninstalled tensorflow-estimator-1.15.1\n",
            "Successfully installed tensorboard-1.14.0 tensorflow-estimator-1.14.0 tensorflow-gpu-1.14.0\n"
          ],
          "name": "stdout"
        }
      ]
    },
    {
      "cell_type": "code",
      "metadata": {
        "id": "Ma3YqgXezxn1",
        "colab_type": "code",
        "outputId": "b69bf9e0-5e16-4d99-fa13-82ba10aa65df",
        "colab": {
          "base_uri": "https://localhost:8080/",
          "height": 501
        }
      },
      "source": [
        "# Import the required dependencies\n",
        "\n",
        "import tensorflow_hub as tfhub\n",
        "import tensorflow as tf\n",
        "import tensorflow_text  # required for tokenization ops\n",
        "\n",
        "sess = None\n",
        "\n",
        "assert tf.__version__ == \"1.14.0\", (\n",
        "    f\"found tf version {tf.__version__}, but need 1.14.0\")\n",
        "assert tf.test.is_gpu_available(), (\n",
        "    \"GPU not available. please use a GPU runtime\")"
      ],
      "execution_count": 0,
      "outputs": [
        {
          "output_type": "stream",
          "text": [
            "/usr/local/lib/python3.6/dist-packages/tensorflow/python/framework/dtypes.py:516: FutureWarning: Passing (type, 1) or '1type' as a synonym of type is deprecated; in a future version of numpy, it will be understood as (type, (1,)) / '(1,)type'.\n",
            "  _np_qint8 = np.dtype([(\"qint8\", np.int8, 1)])\n",
            "/usr/local/lib/python3.6/dist-packages/tensorflow/python/framework/dtypes.py:517: FutureWarning: Passing (type, 1) or '1type' as a synonym of type is deprecated; in a future version of numpy, it will be understood as (type, (1,)) / '(1,)type'.\n",
            "  _np_quint8 = np.dtype([(\"quint8\", np.uint8, 1)])\n",
            "/usr/local/lib/python3.6/dist-packages/tensorflow/python/framework/dtypes.py:518: FutureWarning: Passing (type, 1) or '1type' as a synonym of type is deprecated; in a future version of numpy, it will be understood as (type, (1,)) / '(1,)type'.\n",
            "  _np_qint16 = np.dtype([(\"qint16\", np.int16, 1)])\n",
            "/usr/local/lib/python3.6/dist-packages/tensorflow/python/framework/dtypes.py:519: FutureWarning: Passing (type, 1) or '1type' as a synonym of type is deprecated; in a future version of numpy, it will be understood as (type, (1,)) / '(1,)type'.\n",
            "  _np_quint16 = np.dtype([(\"quint16\", np.uint16, 1)])\n",
            "/usr/local/lib/python3.6/dist-packages/tensorflow/python/framework/dtypes.py:520: FutureWarning: Passing (type, 1) or '1type' as a synonym of type is deprecated; in a future version of numpy, it will be understood as (type, (1,)) / '(1,)type'.\n",
            "  _np_qint32 = np.dtype([(\"qint32\", np.int32, 1)])\n",
            "/usr/local/lib/python3.6/dist-packages/tensorflow/python/framework/dtypes.py:525: FutureWarning: Passing (type, 1) or '1type' as a synonym of type is deprecated; in a future version of numpy, it will be understood as (type, (1,)) / '(1,)type'.\n",
            "  np_resource = np.dtype([(\"resource\", np.ubyte, 1)])\n",
            "/usr/local/lib/python3.6/dist-packages/tensorboard/compat/tensorflow_stub/dtypes.py:541: FutureWarning: Passing (type, 1) or '1type' as a synonym of type is deprecated; in a future version of numpy, it will be understood as (type, (1,)) / '(1,)type'.\n",
            "  _np_qint8 = np.dtype([(\"qint8\", np.int8, 1)])\n",
            "/usr/local/lib/python3.6/dist-packages/tensorboard/compat/tensorflow_stub/dtypes.py:542: FutureWarning: Passing (type, 1) or '1type' as a synonym of type is deprecated; in a future version of numpy, it will be understood as (type, (1,)) / '(1,)type'.\n",
            "  _np_quint8 = np.dtype([(\"quint8\", np.uint8, 1)])\n",
            "/usr/local/lib/python3.6/dist-packages/tensorboard/compat/tensorflow_stub/dtypes.py:543: FutureWarning: Passing (type, 1) or '1type' as a synonym of type is deprecated; in a future version of numpy, it will be understood as (type, (1,)) / '(1,)type'.\n",
            "  _np_qint16 = np.dtype([(\"qint16\", np.int16, 1)])\n",
            "/usr/local/lib/python3.6/dist-packages/tensorboard/compat/tensorflow_stub/dtypes.py:544: FutureWarning: Passing (type, 1) or '1type' as a synonym of type is deprecated; in a future version of numpy, it will be understood as (type, (1,)) / '(1,)type'.\n",
            "  _np_quint16 = np.dtype([(\"quint16\", np.uint16, 1)])\n",
            "/usr/local/lib/python3.6/dist-packages/tensorboard/compat/tensorflow_stub/dtypes.py:545: FutureWarning: Passing (type, 1) or '1type' as a synonym of type is deprecated; in a future version of numpy, it will be understood as (type, (1,)) / '(1,)type'.\n",
            "  _np_qint32 = np.dtype([(\"qint32\", np.int32, 1)])\n",
            "/usr/local/lib/python3.6/dist-packages/tensorboard/compat/tensorflow_stub/dtypes.py:550: FutureWarning: Passing (type, 1) or '1type' as a synonym of type is deprecated; in a future version of numpy, it will be understood as (type, (1,)) / '(1,)type'.\n",
            "  np_resource = np.dtype([(\"resource\", np.ubyte, 1)])\n"
          ],
          "name": "stderr"
        },
        {
          "output_type": "display_data",
          "data": {
            "text/html": [
              "<p style=\"color: red;\">\n",
              "The default version of TensorFlow in Colab will soon switch to TensorFlow 2.x.<br>\n",
              "We recommend you <a href=\"https://www.tensorflow.org/guide/migrate\" target=\"_blank\">upgrade</a> now \n",
              "or ensure your notebook will continue to use TensorFlow 1.x via the <code>%tensorflow_version 1.x</code> magic:\n",
              "<a href=\"https://colab.research.google.com/notebooks/tensorflow_version.ipynb\" target=\"_blank\">more info</a>.</p>\n"
            ],
            "text/plain": [
              "<IPython.core.display.HTML object>"
            ]
          },
          "metadata": {
            "tags": []
          }
        }
      ]
    },
    {
      "cell_type": "markdown",
      "metadata": {
        "id": "ZmS85fV-DOLr",
        "colab_type": "text"
      },
      "source": [
        "\n",
        "## Computing sentence encodings\n",
        "\n",
        "\n",
        "---\n",
        "\n",
        "\n",
        "The default signature for ConveRT encodes sentences to a meaningful semantic space. Sentences can be compared for semantic similarity in this space, and NLP classifiers can be trained on top of these encodings.\n",
        "\n",
        "This section demonstrates encoding texts with ConveRT, and computing similarities.\n"
      ]
    },
    {
      "cell_type": "code",
      "metadata": {
        "id": "ahB_BZuM0697",
        "colab_type": "code",
        "outputId": "1acdc6a6-ebde-4e6f-943a-5e5a6188530d",
        "colab": {
          "base_uri": "https://localhost:8080/",
          "height": 69
        }
      },
      "source": [
        " #Load the tensorflow hub module into a fresh session.\n",
        "\n",
        "if sess is not None:\n",
        "    sess.close()\n",
        "\n",
        "sess = tf.InteractiveSession(graph=tf.Graph())\n",
        "\n",
        "module = tfhub.Module(\"http://models.poly-ai.com/convert/v1/model.tar.gz\")\n",
        "\n",
        "text_placeholder = tf.placeholder(dtype=tf.string, shape=[None])\n",
        "encoding_tensor = module(text_placeholder)\n",
        "encoding_dim = int(encoding_tensor.shape[1])\n",
        "print(f\"ConveRT encodes text to {encoding_dim}-dimensional vectors\")\n",
        "\n",
        "sess.run(tf.tables_initializer())\n",
        "sess.run(tf.global_variables_initializer())\n",
        "\n",
        "\n",
        "def encode(texts):\n",
        "    \"\"\"Encode the given texts to the encoding space.\"\"\"\n",
        "    return sess.run(encoding_tensor, feed_dict={text_placeholder: texts})"
      ],
      "execution_count": 0,
      "outputs": [
        {
          "output_type": "stream",
          "text": [
            "INFO:tensorflow:Saver not created because there are no variables in the graph to restore\n"
          ],
          "name": "stdout"
        },
        {
          "output_type": "stream",
          "text": [
            "INFO:tensorflow:Saver not created because there are no variables in the graph to restore\n"
          ],
          "name": "stderr"
        },
        {
          "output_type": "stream",
          "text": [
            "ConveRT encodes text to 1024-dimensional vectors\n"
          ],
          "name": "stdout"
        }
      ]
    },
    {
      "cell_type": "code",
      "metadata": {
        "id": "-2YhVJU32f5l",
        "colab_type": "code",
        "outputId": "b1bc519e-9a84-4540-ccd7-7a5ac7f7ead5",
        "colab": {
          "base_uri": "https://localhost:8080/",
          "height": 392
        }
      },
      "source": [
        "#  Compute the similarity between a collection of sentences.\n",
        "\n",
        "import numpy as np\n",
        "from sklearn.metrics import pairwise\n",
        "import seaborn\n",
        "\n",
        "texts = [\n",
        "         # booking a ride\n",
        "         \"can i book a car?\",\n",
        "         \"i need a ride from my place\",\n",
        "         \"book a taxi\",\n",
        "\n",
        "         # asking for ETA\n",
        "         \"when will it arrive?\",\n",
        "         \"what is the ETA?\",\n",
        "         \"when will it be here?\",\n",
        "\n",
        "         # asking to talk to a human\n",
        "         \"can i talk to a real person\",\n",
        "         \"i don't want to talk to a robot.\",\n",
        "         \"let me speak to a human.\",\n",
        "]\n",
        "\n",
        "# Pad with \"\" to make heatmap display better.\n",
        "texts = [\"\"] + texts + [\"\"]\n",
        "\n",
        "encodings = encode(texts)\n",
        "\n",
        "similarities = pairwise.cosine_similarity(encodings)\n",
        "seaborn.set(font_scale=0.8)\n",
        "g = seaborn.heatmap(\n",
        "    similarities,\n",
        "    xticklabels=texts,\n",
        "    yticklabels=texts,\n",
        "    vmin=0.,\n",
        "    vmax=1.,\n",
        "    cmap=\"BuGn\",\n",
        "    square=True,\n",
        ")"
      ],
      "execution_count": 0,
      "outputs": [
        {
          "output_type": "display_data",
          "data": {
            "image/png": "[encoded data removed]",
            "text/plain": [
              "<Figure size 432x288 with 2 Axes>"
            ]
          },
          "metadata": {
            "tags": []
          }
        }
      ]
    },
    {
      "cell_type": "code",
      "metadata": {
        "id": "9nSxHGmT2kx7",
        "colab_type": "code",
        "outputId": "0e291014-494e-4360-e7ff-a55b98792f9b",
        "colab": {
          "base_uri": "https://localhost:8080/",
          "height": 393
        }
      },
      "source": [
        "texts = [\n",
        "         # booking hotel\n",
        "         \"can I booking mandalay htel ?\",\n",
        "         \"I need a ride to go to bagan\",\n",
        "         \"book a taxi\",\n",
        "\n",
        "         # asking for ETA\n",
        "         \"when will it arrive?\",\n",
        "         \"what is the ETA?\",\n",
        "         \"when will it be here?\",\n",
        "\n",
        "         # asking to talk to a human\n",
        "         \"can i talk to a real person\",\n",
        "         \"i don't want to talk to a robot.\",\n",
        "         \"let me speak to a human.\",\n",
        "]\n",
        "\n",
        "# Pad with \"\" to make heatmap display better.\n",
        "texts = [\"\"] + texts + [\"\"]\n",
        "\n",
        "encodings = encode(texts)\n",
        "\n",
        "similarities = pairwise.cosine_similarity(encodings)\n",
        "seaborn.set(font_scale=0.8)\n",
        "g = seaborn.heatmap(\n",
        "    similarities,\n",
        "    xticklabels=texts,\n",
        "    yticklabels=texts,\n",
        "    vmin=0.,\n",
        "    vmax=1.,\n",
        "    cmap=\"BuGn\",\n",
        "    square=True,\n",
        "\n",
        ")"
      ],
      "execution_count": 0,
      "outputs": [
        {
          "output_type": "display_data",
          "data": {
            "image/png": "[encoded data removed]",
            "text/plain": [
              "<Figure size 432x288 with 2 Axes>"
            ]
          },
          "metadata": {
            "tags": []
          }
        }
      ]
    },
    {
      "cell_type": "markdown",
      "metadata": {
        "id": "rTtv5Zky3rav",
        "colab_type": "text"
      },
      "source": [
        "## Response Ranking\n",
        "\n",
        "\n",
        "---\n",
        "ConveRT is trained on the response ranking task, so it can be used to find good responses to a given conversational context.\n",
        "\n",
        "This section demonstrates how to rank responses, by computing cosine similarities of context and response representations in the shared response ranking space. Response representations for a fixed candidate list are first pre-computed. When a new context is provided, it is encoded and then compared to the pre-computed response representations.\n"
      ]
    },
    {
      "cell_type": "code",
      "metadata": {
        "id": "t5mIbsWG2uAU",
        "colab_type": "code",
        "outputId": "a3d4b714-18b6-43d7-d286-f0af65b03332",
        "colab": {
          "base_uri": "https://localhost:8080/",
          "height": 104
        }
      },
      "source": [
        "if sess is not None:\n",
        "    sess.close()\n",
        "\n",
        "sess = tf.InteractiveSession(graph=tf.Graph())\n",
        "\n",
        "module = tfhub.Module(\"http://models.poly-ai.com/convert/v1/model.tar.gz\")\n",
        "\n",
        "text_placeholder = tf.placeholder(dtype=tf.string, shape=[None])\n",
        "context_encoding_tensor = module(text_placeholder, signature=\"encode_context\")\n",
        "response_encoding_tensor = module(text_placeholder, signature=\"encode_response\")\n",
        "\n",
        "encoding_dim = int(context_encoding_tensor.shape[1])\n",
        "print(f\"ConveRT encodes contexts & responses to {encoding_dim}-dimensional vectors\")\n",
        "\n",
        "sess.run(tf.tables_initializer())\n",
        "sess.run(tf.global_variables_initializer())\n",
        "\n",
        "def encode_contexts(texts):\n",
        "    return sess.run(context_encoding_tensor, feed_dict={text_placeholder: texts})\n",
        "\n",
        "def encode_responses(texts):\n",
        "    return sess.run(response_encoding_tensor, feed_dict={text_placeholder: texts})"
      ],
      "execution_count": 0,
      "outputs": [
        {
          "output_type": "stream",
          "text": [
            "INFO:tensorflow:Saver not created because there are no variables in the graph to restore\n"
          ],
          "name": "stdout"
        },
        {
          "output_type": "stream",
          "text": [
            "INFO:tensorflow:Saver not created because there are no variables in the graph to restore\n"
          ],
          "name": "stderr"
        },
        {
          "output_type": "stream",
          "text": [
            "INFO:tensorflow:Saver not created because there are no variables in the graph to restore\n"
          ],
          "name": "stdout"
        },
        {
          "output_type": "stream",
          "text": [
            "INFO:tensorflow:Saver not created because there are no variables in the graph to restore\n"
          ],
          "name": "stderr"
        },
        {
          "output_type": "stream",
          "text": [
            "ConveRT encodes contexts & responses to 512-dimensional vectors\n"
          ],
          "name": "stdout"
        }
      ]
    },
    {
      "cell_type": "code",
      "metadata": {
        "id": "B6asWRzc3e4o",
        "colab_type": "code",
        "outputId": "ad6494d9-d0f0-4a45-a9d6-43181d2c20c5",
        "colab": {
          "base_uri": "https://localhost:8080/",
          "height": 104
        }
      },
      "source": [
        "# Pre-encode responses.\n",
        "# Download a file of random facts to serve as candidate responses for the demo.\n",
        "!wget -q https://raw.githubusercontent.com/assaf/dailyhi/a35ba9fc1744dfb399d82abbc5f2d4e4216fbd45/facts.txt -O facts.txt\n",
        "\n",
        "import numpy as np\n",
        "import random\n",
        "\n",
        "responses = []\n",
        "with open(\"facts.txt\") as f:\n",
        "    for line in f:\n",
        "        responses.append(line.strip())\n",
        "\n",
        "print(\"\\n\\t- \".join([\"Three random facts:\"] + random.sample(responses, 3)))\n",
        "\n",
        "# Encode the responses in batches of 64.\n",
        "batch_size = 64\n",
        "response_encodings = []\n",
        "for i in range(0, len(responses), batch_size):\n",
        "    batch = responses[i:i + batch_size]\n",
        "    response_encodings.append(encode_responses(batch))\n",
        "\n",
        "response_encodings = np.concatenate(response_encodings)\n",
        "print(f\"Encoded {response_encodings.shape[0]} candidate responses.\")"
      ],
      "execution_count": 0,
      "outputs": [
        {
          "output_type": "stream",
          "text": [
            "Three random facts:\n",
            "\t- A 13-year-old boy in India produced winged beetles in his urine after hatching the eggs in his body\n",
            "\t- On average, a person has two million sweat glands\n",
            "\t- The YKK on the zipper of your Levis stands for Yoshida Kogyo Kabushibibaisha, the worlds largest zipper manufacturer\n",
            "Encoded 3090 candidate responses.\n"
          ],
          "name": "stdout"
        }
      ]
    },
    {
      "cell_type": "code",
      "metadata": {
        "id": "g6g9QsOl3h5e",
        "colab_type": "code",
        "cellView": "both",
        "outputId": "5b1f6b92-dcdf-41e9-e4df-25262868d4ab",
        "colab": {
          "base_uri": "https://localhost:8080/",
          "height": 54
        }
      },
      "source": [
        "#@title Rank responses { run: \"auto\" }\n",
        "#@markdown Find the best response in a list of around 3 thousand random facts. \n",
        "context = \"Can you tell me about flight ?\" # @param {type:\"string\"}\n",
        "if context:\n",
        "    context_encoding = encode_contexts([context])\n",
        "    scores = np.dot(response_encodings, context_encoding.T)\n",
        "    top_index = np.argmax(scores)\n",
        "    top_score = float(scores[top_index])\n",
        "    print(f\"[{top_score:.3f}] {responses[top_index]}\")"
      ],
      "execution_count": 0,
      "outputs": [
        {
          "output_type": "stream",
          "text": [
            "[0.365] Castaways Travel, a Houston-area travel agency, offers an all-nude flight to Cancun Mexico. Once the plane reaches cruising altitude, you are allowed to take off all your clothes and roam about the cabin\n"
          ],
          "name": "stdout"
        }
      ]
    },
    {
      "cell_type": "markdown",
      "metadata": {
        "id": "0Apgxu7s3tJm",
        "colab_type": "text"
      },
      "source": [
        "## Multi-Context ConveRT\n",
        "\n",
        "\n",
        "\n",
        "---\n",
        "The multi-context version of ConveRT has the same interface as ConveRT, except that when encoding contexts, it also takes extra dialogue history as input.\n",
        "\n",
        "The extra context must be passed as a single string, where earlier contexts are joined with spaces from most recent to oldest.\n",
        "\n",
        "An example from the ConveRT paper, where extra contexts would help is:\n",
        "\n",
        "    Student: I’m looking for good courses to take.\n",
        "\n",
        "    Advisor: Are you looking for courses in a specific area?\n",
        "\n",
        "    Student: Not in particular.\n",
        "\n",
        "    Advisor: Are you looking to take a very difficult class?\n",
        "\n",
        "This section will demonstrate how Multi-context ConveRT can be used to select that last response from the Advisor. (Without more context that \"Not in particular\", this would be hard).\n",
        "\n"
      ]
    },
    {
      "cell_type": "code",
      "metadata": {
        "id": "-JVqcgEG3kO6",
        "colab_type": "code",
        "outputId": "d2cee1df-62c8-4afc-cca1-1eb6997f0eaf",
        "colab": {
          "base_uri": "https://localhost:8080/",
          "height": 104
        }
      },
      "source": [
        "import numpy as np\n",
        "\n",
        "if sess is not None:\n",
        "    sess.close()\n",
        "\n",
        "sess = tf.InteractiveSession(graph=tf.Graph())\n",
        "\n",
        "module = tfhub.Module(\"http://models.poly-ai.com/multi_context_convert/v1/model.tar.gz\")\n",
        "\n",
        "text_placeholder = tf.placeholder(dtype=tf.string, shape=[None])\n",
        "extra_text_placeholder = tf.placeholder(dtype=tf.string, shape=[None])\n",
        "\n",
        "# The encode_context signature now also takes the extra context.\n",
        "context_encoding_tensor = module(\n",
        "    {\n",
        "        'context': text_placeholder,\n",
        "        'extra_context': extra_text_placeholder,\n",
        "    },\n",
        "    signature=\"encode_context\"\n",
        ")\n",
        "response_encoding_tensor = module(text_placeholder, signature=\"encode_response\")\n",
        "\n",
        "encoding_dim = int(context_encoding_tensor.shape[1])\n",
        "print(f\"ConveRT encodes contexts & responses to {encoding_dim}-dimensional vectors\")\n",
        "\n",
        "sess.run(tf.tables_initializer())\n",
        "sess.run(tf.global_variables_initializer())\n",
        "\n",
        "def encode_context(dialogue_history):\n",
        "    \"\"\"Encode the dialogue context to the response ranking vector space.\n",
        "\n",
        "    Args:\n",
        "        dialogue_history: a list of strings, the dialogue history, in\n",
        "            chronological order.\n",
        "    \"\"\"\n",
        "\n",
        "    # The context is the most recent message in the history.\n",
        "    context = dialogue_history[-1]\n",
        "\n",
        "    extra_context = list(dialogue_history[:-1])\n",
        "    extra_context.reverse()\n",
        "    extra_context_feature = \" \".join(extra_context)\n",
        "\n",
        "    return sess.run(\n",
        "        context_encoding_tensor,\n",
        "        feed_dict={\n",
        "            text_placeholder: [context],\n",
        "            extra_text_placeholder: [extra_context_feature],\n",
        "        }\n",
        "    )[0]\n",
        "\n",
        "def encode_responses(texts):\n",
        "    return sess.run(response_encoding_tensor, feed_dict={text_placeholder: texts})\n"
      ],
      "execution_count": 0,
      "outputs": [
        {
          "output_type": "stream",
          "text": [
            "INFO:tensorflow:Saver not created because there are no variables in the graph to restore\n"
          ],
          "name": "stdout"
        },
        {
          "output_type": "stream",
          "text": [
            "INFO:tensorflow:Saver not created because there are no variables in the graph to restore\n"
          ],
          "name": "stderr"
        },
        {
          "output_type": "stream",
          "text": [
            "INFO:tensorflow:Saver not created because there are no variables in the graph to restore\n"
          ],
          "name": "stdout"
        },
        {
          "output_type": "stream",
          "text": [
            "INFO:tensorflow:Saver not created because there are no variables in the graph to restore\n"
          ],
          "name": "stderr"
        },
        {
          "output_type": "stream",
          "text": [
            "ConveRT encodes contexts & responses to 512-dimensional vectors\n"
          ],
          "name": "stdout"
        }
      ]
    },
    {
      "cell_type": "code",
      "metadata": {
        "id": "NnBfTuzL3x-d",
        "colab_type": "code",
        "outputId": "0b085081-6b24-464a-a81c-e9ecc3c14b6c",
        "colab": {
          "base_uri": "https://localhost:8080/",
          "height": 330
        }
      },
      "source": [
        "context_encoding = encode_context(\n",
        "    [\n",
        "     \"I'm looking for good courses to take.\",\n",
        "     \"Are you looking for courses in a specific area?\",\n",
        "     \"Not in particular.\",\n",
        "     ]\n",
        ")\n",
        "\n",
        "candidate_responses = [\n",
        "    \"Me neither.\",\n",
        "    # We hope it selects the following sentence:\n",
        "    \"Are you looking to take a very difficult class?\",\n",
        "    \"Why not?\",\n",
        "    \"Please finish the exercise first.\",\n",
        "    \"Nothing in particular?\",\n",
        "    \"Would you like fries with that?\",\n",
        "    \"School's for fools, look at me!\",\n",
        "    \"Our higher education system is one of the things that makes America exceptional.\",\n",
        "]\n",
        "response_encodings = encode_responses(candidate_responses)\n",
        "\n",
        "scores = context_encoding.dot(response_encodings.T)\n",
        "top_idx = np.argmax(scores)\n",
        "\n",
        "print(\n",
        "    f\"Best response:\\n\\t'{candidate_responses[top_idx]}'\\n\"\n",
        "    f\"\\t\\tscore: {scores[top_idx]:.3f}\"\n",
        ")\n",
        "\n",
        "indices = np.argsort(scores)[::-1][1:]\n",
        "print(\"Other responses:\")\n",
        "for index in indices:\n",
        "    print(\n",
        "        f\"\\t'{candidate_responses[index]}'\\n\"\n",
        "        f\"\\t\\tscore: {scores[index]:.3f}\"\n",
        "    )"
      ],
      "execution_count": 0,
      "outputs": [
        {
          "output_type": "stream",
          "text": [
            "Best response:\n",
            "\t'Are you looking to take a very difficult class?'\n",
            "\t\tscore: 0.439\n",
            "Other responses:\n",
            "\t'Nothing in particular?'\n",
            "\t\tscore: 0.285\n",
            "\t'Why not?'\n",
            "\t\tscore: 0.137\n",
            "\t'Me neither.'\n",
            "\t\tscore: 0.113\n",
            "\t'Please finish the exercise first.'\n",
            "\t\tscore: 0.084\n",
            "\t'Our higher education system is one of the things that makes America exceptional.'\n",
            "\t\tscore: 0.055\n",
            "\t'Would you like fries with that?'\n",
            "\t\tscore: 0.025\n",
            "\t'School's for fools, look at me!'\n",
            "\t\tscore: 0.016\n"
          ],
          "name": "stdout"
        }
      ]
    },
    {
      "cell_type": "code",
      "metadata": {
        "id": "fvdPvqLYC4eI",
        "colab_type": "code",
        "colab": {}
      },
      "source": [
        ""
      ],
      "execution_count": 0,
      "outputs": []
    }
  ]
}